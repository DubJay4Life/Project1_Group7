{
 "cells": [
  {
   "cell_type": "code",
   "execution_count": 2,
   "id": "a5149b0c-60b1-4638-ab28-8e34a37c0dd1",
   "metadata": {},
   "outputs": [],
   "source": [
    "import pandas as pd\n",
    "import matplotlib.pyplot as plt"
   ]
  },
  {
   "cell_type": "code",
   "execution_count": 3,
   "id": "f4653740-5443-4a08-ab12-8714da60e0f1",
   "metadata": {},
   "outputs": [],
   "source": [
    "#Load dataset\n",
    "MovieDataPath = \"COPYMovieData_Clean.csv\""
   ]
  },
  {
   "cell_type": "code",
   "execution_count": 4,
   "id": "27b2ece6-734a-465e-84f8-f07309b7f44c",
   "metadata": {
    "scrolled": true
   },
   "outputs": [
    {
     "name": "stdout",
     "output_type": "stream",
     "text": [
      "(714, 12)\n"
     ]
    },
    {
     "data": {
      "text/html": [
       "<div>\n",
       "<style scoped>\n",
       "    .dataframe tbody tr th:only-of-type {\n",
       "        vertical-align: middle;\n",
       "    }\n",
       "\n",
       "    .dataframe tbody tr th {\n",
       "        vertical-align: top;\n",
       "    }\n",
       "\n",
       "    .dataframe thead th {\n",
       "        text-align: right;\n",
       "    }\n",
       "</style>\n",
       "<table border=\"1\" class=\"dataframe\">\n",
       "  <thead>\n",
       "    <tr style=\"text-align: right;\">\n",
       "      <th></th>\n",
       "      <th>Movie_Title</th>\n",
       "      <th>Released_Year</th>\n",
       "      <th>Rating</th>\n",
       "      <th>Runtime</th>\n",
       "      <th>Genre</th>\n",
       "      <th>IMDB_Rating</th>\n",
       "      <th>Meta_score</th>\n",
       "      <th>Director</th>\n",
       "      <th>Star1</th>\n",
       "      <th>No_of_Votes</th>\n",
       "      <th>Gross</th>\n",
       "      <th>Num_Genres</th>\n",
       "    </tr>\n",
       "  </thead>\n",
       "  <tbody>\n",
       "    <tr>\n",
       "      <th>0</th>\n",
       "      <td>The Shawshank Redemption</td>\n",
       "      <td>1994</td>\n",
       "      <td>R</td>\n",
       "      <td>142</td>\n",
       "      <td>Drama</td>\n",
       "      <td>9.3</td>\n",
       "      <td>80.0</td>\n",
       "      <td>Frank Darabont</td>\n",
       "      <td>Tim Robbins</td>\n",
       "      <td>2343110</td>\n",
       "      <td>28341469</td>\n",
       "      <td>1</td>\n",
       "    </tr>\n",
       "    <tr>\n",
       "      <th>1</th>\n",
       "      <td>The Godfather</td>\n",
       "      <td>1972</td>\n",
       "      <td>R</td>\n",
       "      <td>175</td>\n",
       "      <td>Crime</td>\n",
       "      <td>9.2</td>\n",
       "      <td>100.0</td>\n",
       "      <td>Francis Ford Coppola</td>\n",
       "      <td>Marlon Brando</td>\n",
       "      <td>1620367</td>\n",
       "      <td>134966411</td>\n",
       "      <td>2</td>\n",
       "    </tr>\n",
       "    <tr>\n",
       "      <th>2</th>\n",
       "      <td>The Dark Knight</td>\n",
       "      <td>2008</td>\n",
       "      <td>PG-13</td>\n",
       "      <td>152</td>\n",
       "      <td>Action</td>\n",
       "      <td>9.0</td>\n",
       "      <td>84.0</td>\n",
       "      <td>Christopher Nolan</td>\n",
       "      <td>Christian Bale</td>\n",
       "      <td>2303232</td>\n",
       "      <td>534858444</td>\n",
       "      <td>3</td>\n",
       "    </tr>\n",
       "    <tr>\n",
       "      <th>3</th>\n",
       "      <td>The Godfather: Part II</td>\n",
       "      <td>1974</td>\n",
       "      <td>R</td>\n",
       "      <td>202</td>\n",
       "      <td>Crime</td>\n",
       "      <td>9.0</td>\n",
       "      <td>90.0</td>\n",
       "      <td>Francis Ford Coppola</td>\n",
       "      <td>Al Pacino</td>\n",
       "      <td>1129952</td>\n",
       "      <td>57300000</td>\n",
       "      <td>2</td>\n",
       "    </tr>\n",
       "    <tr>\n",
       "      <th>4</th>\n",
       "      <td>12 Angry Men</td>\n",
       "      <td>1957</td>\n",
       "      <td>G</td>\n",
       "      <td>96</td>\n",
       "      <td>Crime</td>\n",
       "      <td>9.0</td>\n",
       "      <td>96.0</td>\n",
       "      <td>Sidney Lumet</td>\n",
       "      <td>Henry Fonda</td>\n",
       "      <td>689845</td>\n",
       "      <td>4360000</td>\n",
       "      <td>2</td>\n",
       "    </tr>\n",
       "  </tbody>\n",
       "</table>\n",
       "</div>"
      ],
      "text/plain": [
       "                Movie_Title Released_Year Rating  Runtime   Genre  \\\n",
       "0  The Shawshank Redemption          1994      R      142   Drama   \n",
       "1             The Godfather          1972      R      175   Crime   \n",
       "2           The Dark Knight          2008  PG-13      152  Action   \n",
       "3    The Godfather: Part II          1974      R      202   Crime   \n",
       "4              12 Angry Men          1957      G       96   Crime   \n",
       "\n",
       "   IMDB_Rating  Meta_score              Director           Star1  No_of_Votes  \\\n",
       "0          9.3        80.0        Frank Darabont     Tim Robbins      2343110   \n",
       "1          9.2       100.0  Francis Ford Coppola   Marlon Brando      1620367   \n",
       "2          9.0        84.0     Christopher Nolan  Christian Bale      2303232   \n",
       "3          9.0        90.0  Francis Ford Coppola       Al Pacino      1129952   \n",
       "4          9.0        96.0          Sidney Lumet     Henry Fonda       689845   \n",
       "\n",
       "       Gross  Num_Genres  \n",
       "0   28341469           1  \n",
       "1  134966411           2  \n",
       "2  534858444           3  \n",
       "3   57300000           2  \n",
       "4    4360000           2  "
      ]
     },
     "execution_count": 4,
     "metadata": {},
     "output_type": "execute_result"
    }
   ],
   "source": [
    "#print to inspect\n",
    "movie_ratings_df = pd.read_csv(MovieDataPath) \n",
    "print(movie_ratings_df.shape)\n",
    "movie_ratings_df.head()"
   ]
  },
  {
   "cell_type": "code",
   "execution_count": 34,
   "id": "ab1bb84c-8cfe-4d1e-bb75-8e2f435b147f",
   "metadata": {},
   "outputs": [
    {
     "data": {
      "text/html": [
       "<div>\n",
       "<style scoped>\n",
       "    .dataframe tbody tr th:only-of-type {\n",
       "        vertical-align: middle;\n",
       "    }\n",
       "\n",
       "    .dataframe tbody tr th {\n",
       "        vertical-align: top;\n",
       "    }\n",
       "\n",
       "    .dataframe thead th {\n",
       "        text-align: right;\n",
       "    }\n",
       "</style>\n",
       "<table border=\"1\" class=\"dataframe\">\n",
       "  <thead>\n",
       "    <tr style=\"text-align: right;\">\n",
       "      <th></th>\n",
       "      <th>Rating</th>\n",
       "      <th>IMDB_Rating</th>\n",
       "      <th>Meta_score</th>\n",
       "    </tr>\n",
       "  </thead>\n",
       "  <tbody>\n",
       "    <tr>\n",
       "      <th>0</th>\n",
       "      <td>R</td>\n",
       "      <td>9.3</td>\n",
       "      <td>80.0</td>\n",
       "    </tr>\n",
       "    <tr>\n",
       "      <th>1</th>\n",
       "      <td>R</td>\n",
       "      <td>9.2</td>\n",
       "      <td>100.0</td>\n",
       "    </tr>\n",
       "    <tr>\n",
       "      <th>2</th>\n",
       "      <td>PG-13</td>\n",
       "      <td>9.0</td>\n",
       "      <td>84.0</td>\n",
       "    </tr>\n",
       "    <tr>\n",
       "      <th>3</th>\n",
       "      <td>R</td>\n",
       "      <td>9.0</td>\n",
       "      <td>90.0</td>\n",
       "    </tr>\n",
       "    <tr>\n",
       "      <th>4</th>\n",
       "      <td>G</td>\n",
       "      <td>9.0</td>\n",
       "      <td>96.0</td>\n",
       "    </tr>\n",
       "  </tbody>\n",
       "</table>\n",
       "</div>"
      ],
      "text/plain": [
       "  Rating  IMDB_Rating  Meta_score\n",
       "0      R          9.3        80.0\n",
       "1      R          9.2       100.0\n",
       "2  PG-13          9.0        84.0\n",
       "3      R          9.0        90.0\n",
       "4      G          9.0        96.0"
      ]
     },
     "execution_count": 34,
     "metadata": {},
     "output_type": "execute_result"
    }
   ],
   "source": [
    "#print with info that I need: Ratings - certificate, imbd, meta\n",
    "movie_rating_df = movie_ratings_df.loc[:,['Rating', 'IMDB_Rating', 'Meta_score']]\n",
    "movie_rating_df.head()"
   ]
  },
  {
   "cell_type": "code",
   "execution_count": 98,
   "id": "b3f19bca-1b5c-4667-ac50-5f890f0917ed",
   "metadata": {},
   "outputs": [
    {
     "name": "stdout",
     "output_type": "stream",
     "text": [
      "Original Meta Scores:\n",
      " Rating\n",
      "G        79.109375\n",
      "PG       83.222222\n",
      "PG-13    75.104972\n",
      "R        76.432787\n",
      "Name: Meta_score, dtype: float64\n",
      "Converted Meta Scores (1-10 scale):\n",
      " [8.9109375, 9.322222222222223, 8.51049723756906, 8.64327868852459]\n",
      "Rating\n",
      "G        7.961979\n",
      "PG       7.952778\n",
      "PG-13    7.897238\n",
      "R        7.943279\n",
      "Name: IMDB_Rating, dtype: float64\n"
     ]
    }
   ],
   "source": [
    "# Group by the 'Rating' column\n",
    "grouped = movie_ratings_df.groupby('Rating')\n",
    "\n",
    "# Calculate the mean of 'IMBD average' for each group\n",
    "average_rating = grouped['IMDB_Rating'].mean()\n",
    "\n",
    "# Calculate the mean of 'Meta avergae' for each group\n",
    "average_score = grouped['Meta_score'].mean()\n",
    "\n",
    "# Convert Meta Average from 0-100 scale to 1-10 scale\n",
    "average_score_1_to_10 = (average_score / 10) + 1 \n",
    "\n",
    "# Convert Meta Average from 0-100 scale to 1-10 scale\n",
    "average_score_1_to_10 = [min((score / 10) +1, 10) for score in average_score]\n",
    "\n",
    "# Print Meta Conversion\n",
    "print(\"Original Meta Scores:\\n\", average_score)\n",
    "print(\"Converted Meta Scores (1-10 scale):\\n\", average_score_1_to_10)\n",
    "\n",
    "#Print Mean of IMDb ratings\n",
    "print(average_rating)\n",
    "\n"
   ]
  },
  {
   "cell_type": "code",
   "execution_count": 59,
   "id": "abd74025-3937-4b2e-a158-864d8f73fcd9",
   "metadata": {},
   "outputs": [
    {
     "data": {
      "text/plain": [
       "Index(['G', 'PG', 'PG-13', 'R'], dtype='object', name='Rating')"
      ]
     },
     "execution_count": 59,
     "metadata": {},
     "output_type": "execute_result"
    }
   ],
   "source": [
    "#Define \n",
    "Rating = ['G', 'PG', 'PG-13', 'R']  # Movie certificate categories\n",
    "\n",
    "#Index\n",
    "average_rating.index"
   ]
  },
  {
   "cell_type": "code",
   "execution_count": 109,
   "id": "6c98ef76-fbaa-44aa-85e5-c0907b50b5d5",
   "metadata": {
    "scrolled": true
   },
   "outputs": [
    {
     "data": {
      "image/png": "[encoded data removed]",
      "text/plain": [
       "<Figure size 640x480 with 1 Axes>"
      ]
     },
     "metadata": {},
     "output_type": "display_data"
    }
   ],
   "source": [
    "#Width of each bar\n",
    "width = 0.25\n",
    "\n",
    "#Define positions for groups\n",
    "x = list(range(len(Rating)))\n",
    "\n",
    "#Plot bars\n",
    "bars1 = plt.bar([pos - width/2 for pos in x], average_rating, width, label='IMDb Rating', color='#F5DE50')\n",
    "bars2 = plt.bar([pos + width/2 for pos in x], average_score, width, label='Meta Score *converted from 0-100 to 0-10', color='skyblue')\n",
    "\n",
    "#Labels, Title, Legend, Legend Placement\n",
    "plt.xlabel('Certificate Rating')\n",
    "plt.ylabel('Review')\n",
    "plt.title('Review vs. Certificate rating')\n",
    "\n",
    "plt.bar_label(bars1, labels=[f'{val:.2f}' for val in average_rating], label_type='center', color='black')  # IMDb Ratings\n",
    "plt.bar_label(bars2, labels=[f'{val:.2f}' for val in average_score_1_to_10], label_type='center', color='black')  # Meta Scores\n",
    "\n",
    "\n",
    "plt.xticks(x, Rating)\n",
    "plt.legend(loc='upper left', bbox_to_anchor=(1, 1), ncols=1)\n",
    "\n",
    "plt.ylim(0, 10)\n",
    "plt.ylim(0, max(max(average_rating), max(average_score_1_to_10)) + 1)\n",
    "\n",
    "\n",
    "plt.show()\n",
    "\n"
   ]
  },
  {
   "cell_type": "code",
   "execution_count": null,
   "id": "8ac06a06-53e8-43a4-afa8-998785152065",
   "metadata": {},
   "outputs": [],
   "source": []
  }
 ],
 "metadata": {
  "kernelspec": {
   "display_name": "Python 3 (ipykernel)",
   "language": "python",
   "name": "python3"
  },
  "language_info": {
   "codemirror_mode": {
    "name": "ipython",
    "version": 3
   },
   "file_extension": ".py",
   "mimetype": "text/x-python",
   "name": "python",
   "nbconvert_exporter": "python",
   "pygments_lexer": "ipython3",
   "version": "3.12.4"
  }
 },
 "nbformat": 4,
 "nbformat_minor": 5
}
